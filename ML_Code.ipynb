{
 "cells": [
  {
   "cell_type": "markdown",
   "id": "4aef9d60-1ae5-4a44-9a10-af4c64dd14b5",
   "metadata": {},
   "source": [
    "Read the data"
   ]
  },
  {
   "cell_type": "code",
   "execution_count": 1,
   "id": "b31278c1-d2ad-4c4f-84a2-68fc4c0484d9",
   "metadata": {},
   "outputs": [],
   "source": [
    "#IMPORT Libraries\n",
    "import pandas as pd\n",
    "import numpy as np\n"
   ]
  },
  {
   "cell_type": "code",
   "execution_count": 2,
   "id": "248269f7-50ab-4c1c-a7d9-44810689b3ed",
   "metadata": {},
   "outputs": [
    {
     "name": "stdout",
     "output_type": "stream",
     "text": [
      "Each row, aka each patient, has a total of 16 characteristics\n",
      "There are 4024 total records of patients\n",
      "[68 'White' 'Married' 'T1' 'N1' 'IIA' 'Poorly differentiated' '3'\n",
      " 'Regional' 4 'Positive' 'Positive' 24 1 60 'Alive']\n",
      "length: 16\n"
     ]
    }
   ],
   "source": [
    "#Read the data from the csv file\n",
    "data_df = pd.read_csv('Breast_Cancer.csv')\n",
    "\n",
    "data = data_df.to_numpy()\n",
    "#Determine how many identifiable characteristics there are for each patient\n",
    "print('Each row, aka each patient, has a total of {} characteristics'.format(len(data[0])))\n",
    "print('There are {} total records of patients'.format(data.shape[0]))\n",
    "\n",
    "######visualize the entire dataset####\n",
    "# data_df\n",
    "print(data[0])\n",
    "print('length: {}'.format(len(data[0])))"
   ]
  },
  {
   "cell_type": "code",
   "execution_count": 3,
   "id": "2fe45749-f616-484a-9459-0262dc846a48",
   "metadata": {},
   "outputs": [
    {
     "data": {
      "text/plain": [
       "'\\nThere are no duplicate records! The dataset specifically states that \\nthere are 4024 unique records.\\n'"
      ]
     },
     "execution_count": 3,
     "metadata": {},
     "output_type": "execute_result"
    }
   ],
   "source": [
    "'Identify any duplicate records'\n",
    "'''\n",
    "There are no duplicate records! The dataset specifically states that \n",
    "there are 4024 unique records.\n",
    "'''\n",
    "# duplicates = data_df.duplicated(keep=False)\n",
    "# #This function seek to find any rows that are duplicates of each other;\n",
    "# #keep = False means all duplicate rows are returned\n",
    "\n",
    "# print(data_df[duplicates])\n",
    "\n",
    "# #Remove all duplicates\n",
    "# data_df_clean = data_df.drop_duplicates()\n",
    "# cleaned_data = data_df_clean.to_numpy()\n",
    "\n",
    "# print('\\n\\n!!!There are {} unique records of patients!!!'.format(cleaned_data.shape[0]))\n",
    "# print(cleaned_data[0])\n"
   ]
  },
  {
   "cell_type": "code",
   "execution_count": 4,
   "id": "2d1cb3d9-c6bc-46ff-96fb-8135fe249499",
   "metadata": {},
   "outputs": [
    {
     "name": "stdout",
     "output_type": "stream",
     "text": [
      "Each patient has 16 characteristics\n"
     ]
    }
   ],
   "source": [
    "print('Each patient has {} characteristics'.format(data.shape[1]))\n",
    "cols = ['age', 'race', 'marital status', 'T Stage', 'N Stage', '6th Stage', \n",
    "        'differentiation', 'grade', 'A Stage', 'Tumor Size', 'Estrogen Status', \n",
    "        'Progestrone Status', 'Regional Node Examined', 'Regional Node Posititive', \n",
    "        'Survival Months', 'Status' ]\n",
    "assert(len(cols) == 16)\n",
    "#there are 11 columns with strng values\n",
    "\n",
    "#GOAL : map these string values to integers; if three options, map to {1, 2, 3}\n",
    "#option: create dictionaries for each string column and list out their categories\n",
    "race = {'White': 1, 'Black': 2, 'Other': 3}\n",
    "mS = {'Married': 1, 'Single': 2, 'Divorced': 3, 'Widowed': 4,'Seperated':5}\n",
    "\n",
    "tStage = {'T1':1, 'T2':2, 'T3':3, 'T4':4}\n",
    "nStage = {'N1': 1, 'N2': 2, 'N3': 3}\n",
    "\n",
    "#FIVE VALUES for sixth stage\n",
    "sixthStage = {'IIA':1, 'IIB':2, 'IIIA':3, 'IIIB':4, 'IIIC': 5}\n",
    "\n",
    "grade = {'1': 1, '2': 2, '3': 3, 'anaplastic; Grade IV':4}\n",
    "\n",
    "#four values for differentiated\n",
    "differentiated = {'Undifferentiated':1, 'Poorly differentiated':2, 'Moderately differentiated':3,  'Well differentiated':4, }\n",
    "\n",
    "#two values for A stage: reginal and distant\n",
    "aStage = {'Regional': 1, 'Distant': 2}\n",
    "\n",
    "#estrogen status and progestrogen status have two values: postive or negative\n",
    "eStatus = {'Positive': 1, 'Negative': 2}\n",
    "pStatus = {'Positive': 1, 'Negative': 2}\n",
    "\n",
    "#status has two values; dead or alive\n",
    "status = {'Dead':1, 'Alive':2}"
   ]
  },
  {
   "cell_type": "code",
   "execution_count": 5,
   "id": "a9e19320-aa2f-4bc0-8119-9ebacc06f46b",
   "metadata": {},
   "outputs": [],
   "source": [
    "\n",
    "\n",
    "# Check for None values\n",
    "for index, value in enumerate(data[7]):\n",
    "    if value is None:\n",
    "        print(f'None found at index {index}')\n"
   ]
  },
  {
   "cell_type": "code",
   "execution_count": 6,
   "id": "7ff59703-9a0f-4fc8-8a78-61eeb46347af",
   "metadata": {},
   "outputs": [
    {
     "name": "stdout",
     "output_type": "stream",
     "text": [
      "Before the mappinng: [58 'White' 'Divorced' 'T3' 'N3' 'IIIC' 'Moderately differentiated' '2'\n",
      " 'Regional' 63 'Positive' 'Positive' 14 7 75 'Alive']\n",
      "After the mapping: [58 1 3 3 3 5 3 2 1 63 1 1 14 7 75 2]\n"
     ]
    }
   ],
   "source": [
    "###TEST THE MAPPING###\n",
    "\n",
    "#create indices for each string column\n",
    "race_index = 1\n",
    "maritalStatus_index = 2\n",
    "\n",
    "tStage_index = 3\n",
    "nStage_index = 4\n",
    "\n",
    "sixthStage_index = 5\n",
    "differentiated_index = 6\n",
    "\n",
    "aStage_index = 8\n",
    "grade_index = 7\n",
    "\n",
    "eStatus_index = 10\n",
    "pStatus_index = 11\n",
    "status_index = 15\n",
    "print('Before the mappinng: {}'.format(data[2]))\n",
    "\n",
    "\n",
    "#####use numpy vectorized mapping, applies to the entire dataset!!!!###\n",
    "###ONLY one value is shown here to emphasize the change###\n",
    "\n",
    "data[:, race_index] = np.vectorize(race.get)(data[:, race_index])\n",
    "\n",
    "#this following for loop is used instead of vectors to fix the errors of None type being passed\n",
    "\n",
    "for i in range(data.shape[0]):\n",
    "    data[i, maritalStatus_index] = mS.get(data[i, maritalStatus_index], -1)\n",
    "\n",
    "data[:, tStage_index] = np.vectorize(tStage.get)(data[:, tStage_index])\n",
    "\n",
    "data[:, nStage_index] = np.vectorize(nStage.get)(data[:, nStage_index])\n",
    "\n",
    "data[:, sixthStage_index] = np.vectorize(sixthStage.get)(data[:, sixthStage_index])\n",
    "\n",
    "data[:, differentiated_index] = np.vectorize(differentiated.get)(data[:, differentiated_index])\n",
    "\n",
    "data[:, aStage_index] = np.vectorize(aStage.get)(data[:, aStage_index])\n",
    "\n",
    "for i in range(data.shape[0]):\n",
    "    data[i, grade_index] = grade.get(data[i, grade_index], -1)\n",
    "\n",
    "data[:, eStatus_index] = np.vectorize(eStatus.get)(data[:, eStatus_index])\n",
    "\n",
    "data[:, pStatus_index] = np.vectorize(pStatus.get)(data[:, pStatus_index])\n",
    "\n",
    "data[:, status_index] = np.vectorize(status.get)(data[:, status_index])\n",
    "\n",
    "\n",
    "\n",
    "print('After the mapping: {}'.format(data[2]))\n",
    "\n",
    "####To test this cell you have to re-run all cells because the data array is overwritten!!!###\n"
   ]
  },
  {
   "cell_type": "code",
   "execution_count": 7,
   "id": "75219d4a-4622-4e86-bffa-23e2f6306f71",
   "metadata": {},
   "outputs": [],
   "source": [
    "\n",
    "\n",
    "#DIVIDE INTO TRAINING AND TESTING ??#\n"
   ]
  },
  {
   "cell_type": "markdown",
   "id": "92103f90-b486-4550-a3e9-64e6cafe54f3",
   "metadata": {},
   "source": [
    "MODEL"
   ]
  },
  {
   "cell_type": "code",
   "execution_count": null,
   "id": "2d894365-c214-47f8-8062-7fd4af64b734",
   "metadata": {},
   "outputs": [],
   "source": []
  }
 ],
 "metadata": {
  "kernelspec": {
   "display_name": "Python 3.12.3",
   "language": "python",
   "name": "python3"
  },
  "language_info": {
   "codemirror_mode": {
    "name": "ipython",
    "version": 3
   },
   "file_extension": ".py",
   "mimetype": "text/x-python",
   "name": "python",
   "nbconvert_exporter": "python",
   "pygments_lexer": "ipython3",
   "version": "3.12.3"
  }
 },
 "nbformat": 4,
 "nbformat_minor": 5
}
